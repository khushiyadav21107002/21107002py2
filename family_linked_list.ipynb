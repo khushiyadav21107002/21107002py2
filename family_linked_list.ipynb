{
  "nbformat": 4,
  "nbformat_minor": 0,
  "metadata": {
    "colab": {
      "provenance": [],
      "authorship_tag": "ABX9TyMJPo2Ne/cb8ywSDx2ttSRb",
      "include_colab_link": true
    },
    "kernelspec": {
      "name": "python3",
      "display_name": "Python 3"
    },
    "language_info": {
      "name": "python"
    }
  },
  "cells": [
    {
      "cell_type": "markdown",
      "metadata": {
        "id": "view-in-github",
        "colab_type": "text"
      },
      "source": [
        "<a href=\"https://colab.research.google.com/github/khushiyadav21107002/21107002py2/blob/main/family_linked_list.ipynb\" target=\"_parent\"><img src=\"https://colab.research.google.com/assets/colab-badge.svg\" alt=\"Open In Colab\"/></a>"
      ]
    },
    {
      "cell_type": "code",
      "execution_count": 1,
      "metadata": {
        "colab": {
          "base_uri": "https://localhost:8080/",
          "height": 175
        },
        "id": "u9G2RqlbtEjX",
        "outputId": "341073bb-0f1a-43bb-eea8-46dd5690e53f"
      },
      "outputs": [
        {
          "output_type": "stream",
          "name": "stdout",
          "text": [
            "Nodes of doubly linked list: \n",
            "Name1 1\n",
            "Name2 2\n",
            "Name3 3\n",
            "Name4 4\n",
            "Name5 5\n"
          ]
        },
        {
          "output_type": "execute_result",
          "data": {
            "text/plain": [
              "\"\\nQ.Try to find a way to link the family members' doubly-linked list based on their relationship.\\nAns.One way to link the family members doubly-linked list is by sorting the doubly linked list according to age in decending order.By doing so we will get a doubly linked list in which older generation people will be close to head in double linked list and new generation people will be close to tail in doubly linked list.\\n\""
            ],
            "application/vnd.google.colaboratory.intrinsic+json": {
              "type": "string"
            }
          },
          "metadata": {},
          "execution_count": 1
        }
      ],
      "source": [
        "# Represent a node of doubly linked list\n",
        "class Family_members:\n",
        "    def __init__(self, name, age):\n",
        "        self.name = name\n",
        "        self.age = age\n",
        "        self.previous = None\n",
        "        self.next = None\n",
        "\n",
        "\n",
        "class DoublyLinkedList:\n",
        "    # Represent the head and tail of the doubly linked list\n",
        "    def __init__(self):\n",
        "        self.head = None\n",
        "        self.tail = None\n",
        "\n",
        "        # addNode() will add a node to the list\n",
        "\n",
        "    def addMember(self, name, age):\n",
        "        # Create a new node\n",
        "        newMember = Family_members(name, age)\n",
        "\n",
        "        # If list is empty\n",
        "        if (self.head == None):\n",
        "            # Both head and tail will point to newNode\n",
        "            self.head = self.tail = newMember\n",
        "            # head's previous will point to None\n",
        "            self.head.previous = None\n",
        "            # tail's next will point to None, as it is the last node of the list\n",
        "            self.tail.next = None\n",
        "        else:\n",
        "            # newNode will be added after tail such that tail's next will point to newNode\n",
        "            self.tail.next = newMember\n",
        "            # newNode's previous will point to tail\n",
        "            newMember.previous = self.tail\n",
        "            # newNode will become new tail\n",
        "            self.tail = newMember\n",
        "            # As it is last node, tail's next will point to None\n",
        "            self.tail.next = None\n",
        "\n",
        "            # display() will print out the nodes of the list\n",
        "\n",
        "    def display(self):\n",
        "        # Node current will point to head\n",
        "        current = self.head\n",
        "        if (self.head == None):\n",
        "            print(\"List is empty\")\n",
        "            return\n",
        "        print(\"Nodes of doubly linked list: \")\n",
        "        while (current != None):\n",
        "            # Prints each node by incrementing pointer.\n",
        "            print(current.name, current.age),\n",
        "            current = current.next\n",
        "\n",
        "\n",
        "dList = DoublyLinkedList()\n",
        "# Add nodes to the list\n",
        "dList.addMember('Name1', 1)\n",
        "dList.addMember('Name2', 2)\n",
        "dList.addMember('Name3', 3)\n",
        "dList.addMember('Name4', 4)\n",
        "dList.addMember('Name5', 5)\n",
        "\n",
        "# Displays the nodes present in the list\n",
        "dList.display()\n",
        "\n",
        "'''\n",
        "Q.Try to find a way to link the family members' doubly-linked list based on their relationship.\n",
        "Ans.One way to link the family members doubly-linked list is by sorting the doubly linked list according to age in decending order.By doing so we will get a doubly linked list in which older generation people will be close to head in double linked list and new generation people will be close to tail in doubly linked list.\n",
        "'''"
      ]
    }
  ]
}