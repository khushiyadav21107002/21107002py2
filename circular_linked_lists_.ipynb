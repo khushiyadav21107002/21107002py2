{
  "nbformat": 4,
  "nbformat_minor": 0,
  "metadata": {
    "colab": {
      "provenance": [],
      "authorship_tag": "ABX9TyOC9BAwJaOXcAeUXJ5uqVy1",
      "include_colab_link": true
    },
    "kernelspec": {
      "name": "python3",
      "display_name": "Python 3"
    },
    "language_info": {
      "name": "python"
    }
  },
  "cells": [
    {
      "cell_type": "markdown",
      "metadata": {
        "id": "view-in-github",
        "colab_type": "text"
      },
      "source": [
        "<a href=\"https://colab.research.google.com/github/khushiyadav21107002/21107002py2/blob/main/circular_linked_lists_.ipynb\" target=\"_parent\"><img src=\"https://colab.research.google.com/assets/colab-badge.svg\" alt=\"Open In Colab\"/></a>"
      ]
    },
    {
      "cell_type": "code",
      "execution_count": null,
      "metadata": {
        "id": "Cq9w2jhvhipM"
      },
      "outputs": [],
      "source": [
        "#In a conventional linked list, we traverse the list from the head node and stop the traversal when we reach NULL. In a circular linked list, we stop traversal when we reach the first node again\n",
        "\n",
        "\n",
        "# Function to print nodes in a given Circular linked list\n",
        "def printList(self):\n",
        "\n",
        "\ttemp = self.head\n",
        "\n",
        "\t# If linked list is not empty\n",
        "\tif self.head is not None:\n",
        "\t\twhile(True):\n",
        "\n",
        "\t\t\t# Print nodes till we reach first node again\n",
        "\t\t\tprint(temp.data, end=\" \")\n",
        "\t\t\ttemp = temp.next\n",
        "\t\t\tif (temp == self.head):\n",
        "\t\t\t\tbreak\n",
        "\n",
        "\n",
        "\n"
      ]
    },
    {
      "cell_type": "markdown",
      "source": [
        "Circular Linked Lists can be used to manage the computing resources of the computer.\n",
        "\n",
        "Data structures such as stacks and queues are implemented with the help of the circular linked lists.\n",
        "\n",
        "Circular Linked List is also used in the implementation of advanced data structures such as a Fibonacci Heap.\n",
        "\n",
        "It is also used in computer networking for token scheduling.\n",
        "\n",
        "Round Robin scheduling technique in games.\n",
        "\n",
        "Audio/Video Streaming\n",
        "\n",
        "Circular Escalators\n"
      ],
      "metadata": {
        "id": "0Kw551mQhn-B"
      }
    }
  ]
}