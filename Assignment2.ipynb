{
  "nbformat": 4,
  "nbformat_minor": 0,
  "metadata": {
    "colab": {
      "name": "Assignment2.ipynb",
      "provenance": [],
      "collapsed_sections": [],
      "include_colab_link": true
    },
    "kernelspec": {
      "name": "python3",
      "display_name": "Python 3"
    },
    "language_info": {
      "name": "python"
    }
  },
  "cells": [
    {
      "cell_type": "markdown",
      "metadata": {
        "id": "view-in-github",
        "colab_type": "text"
      },
      "source": [
        "<a href=\"https://colab.research.google.com/github/khushiyadav21107002/21107002py2/blob/main/Assignment2.ipynb\" target=\"_parent\"><img src=\"https://colab.research.google.com/assets/colab-badge.svg\" alt=\"Open In Colab\"/></a>"
      ]
    },
    {
      "cell_type": "code",
      "execution_count": null,
      "metadata": {
        "colab": {
          "base_uri": "https://localhost:8080/"
        },
        "id": "n72vxqCMLuA1",
        "outputId": "63ff6840-5f14-4fda-d26f-44748109eec3"
      },
      "outputs": [
        {
          "output_type": "stream",
          "name": "stdout",
          "text": [
            "35 egaugnal evitisnes esac a si nohtyp a python is object oriented language 10 pythonisacasesensitivelanguage\n"
          ]
        }
      ],
      "source": [
        "#question1\n",
        "givenstring=\"python is a case sensitive language\"\n",
        "stringlength=len(givenstring)\n",
        "revstring=givenstring[-1::-1]\n",
        "newstring=givenstring[10::27]\n",
        "replacestring=givenstring.replace(\"a case sensitive\",\"object oriented\")\n",
        "a_position=givenstring.index(\"a\")\n",
        "stringwithoutspace=givenstring.replace(\" \",\"\")\n",
        "print(stringlength,revstring,newstring,replacestring,a_position,stringwithoutspace)"
      ]
    },
    {
      "cell_type": "code",
      "source": [
        "#question2\n",
        "name=\"khushi yadav\"\n",
        "SID=\"21107002\"\n",
        "department=\"mechanical\"\n",
        "cgpa=9\n",
        "print(\"hey, \",name,\" here!\",\"\\n\",\"My SID is \",SID, \"\\n\",\"i am from \",department,\"and my CGPA is \",cgpa)"
      ],
      "metadata": {
        "colab": {
          "base_uri": "https://localhost:8080/"
        },
        "id": "ATP0haJIP2Qc",
        "outputId": "2ba72e21-f324-46cb-8112-4141ddee70b8"
      },
      "execution_count": null,
      "outputs": [
        {
          "output_type": "stream",
          "name": "stdout",
          "text": [
            "hey,  khushi yadav  here! \n",
            " My SID is  21107002 \n",
            " i am from  mechanical and my CGPA is  9\n"
          ]
        }
      ]
    },
    {
      "cell_type": "code",
      "source": [
        "#question4\n",
        "inputstring=input(\"Enter string: \")\n",
        "substring=\"name\"\n",
        "if substring in inputstring:\n",
        "  print(\"Yes\")\n",
        "else:\n",
        "  print(\"No\")\n",
        "  "
      ],
      "metadata": {
        "colab": {
          "base_uri": "https://localhost:8080/"
        },
        "id": "aIcGGtFtRV-V",
        "outputId": "a810f421-b377-4617-e606-8763180f4d84"
      },
      "execution_count": null,
      "outputs": [
        {
          "output_type": "stream",
          "name": "stdout",
          "text": [
            "Enter string: my name is ...\n",
            "Yes\n"
          ]
        }
      ]
    },
    {
      "cell_type": "code",
      "source": [
        "#question6\n",
        "a=int(input(\" Enter first number :\"))\n",
        "b=int(input(\" Enter second number :\"))\n",
        "diff=str(bin(a^b))\n",
        "flipped_bits= diff.count(\"1\")\n",
        "print(flipped_bits)\n",
        "\n"
      ],
      "metadata": {
        "colab": {
          "base_uri": "https://localhost:8080/"
        },
        "id": "Y6OV7NJEYHKy",
        "outputId": "11ea2d20-8b6b-4e0b-ffbe-b14f9feb6de1"
      },
      "execution_count": null,
      "outputs": [
        {
          "output_type": "stream",
          "name": "stdout",
          "text": [
            " Enter first number :45\n",
            " Enter second number :90\n",
            "6\n"
          ]
        }
      ]
    },
    {
      "cell_type": "code",
      "source": [
        "#question5\n",
        "a=int(input(\"enter side 1: \"))\n",
        "b=int(input(\"enter 2nd side: \"))\n",
        "c=int(input(\"enter 3rd side: \"))\n",
        "while (a+b<=c) or (b+c<=a) or (c+a<=b):\n",
        "  print(\"No\")\n",
        "  break\n",
        "while (a+b>c) and (b+c>a) and (c+a>b):\n",
        "  print(\"Yes\")\n",
        "  break\n",
        "\n",
        "\n"
      ],
      "metadata": {
        "colab": {
          "base_uri": "https://localhost:8080/"
        },
        "id": "ritihjMuTAtT",
        "outputId": "66d9aaba-f270-4476-917c-4dd0b426a774"
      },
      "execution_count": null,
      "outputs": [
        {
          "output_type": "stream",
          "name": "stdout",
          "text": [
            "enter side 1: 1\n",
            "enter 2nd side: 13\n",
            "enter 3rd side: 2\n",
            "No\n"
          ]
        }
      ]
    },
    {
      "cell_type": "code",
      "source": [
        "#question3\n",
        "a=56\n",
        "b=10\n",
        "print(a&b,a|b,a^b,a>>2,b>>2,a<<2,b<<4)"
      ],
      "metadata": {
        "colab": {
          "base_uri": "https://localhost:8080/"
        },
        "id": "SgY5PeAxVey3",
        "outputId": "0f5e98ba-7ffd-473f-b750-af556f24f86b"
      },
      "execution_count": null,
      "outputs": [
        {
          "output_type": "stream",
          "name": "stdout",
          "text": [
            "8 58 50 14 2 224 160\n"
          ]
        }
      ]
    },
    {
      "cell_type": "code",
      "source": [
        ""
      ],
      "metadata": {
        "id": "vcR1CUGlWgu9"
      },
      "execution_count": null,
      "outputs": []
    }
  ]
}