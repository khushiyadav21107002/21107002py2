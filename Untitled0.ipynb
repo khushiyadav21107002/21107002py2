{
  "nbformat": 4,
  "nbformat_minor": 0,
  "metadata": {
    "colab": {
      "name": "Untitled0.ipynb",
      "provenance": [],
      "authorship_tag": "ABX9TyOQ9oGNTb1/y5EQbBMb2ZnK",
      "include_colab_link": true
    },
    "kernelspec": {
      "name": "python3",
      "display_name": "Python 3"
    },
    "language_info": {
      "name": "python"
    }
  },
  "cells": [
    {
      "cell_type": "markdown",
      "metadata": {
        "id": "view-in-github",
        "colab_type": "text"
      },
      "source": [
        "<a href=\"https://colab.research.google.com/github/khushiyadav21107002/21107002py2/blob/main/Untitled0.ipynb\" target=\"_parent\"><img src=\"https://colab.research.google.com/assets/colab-badge.svg\" alt=\"Open In Colab\"/></a>"
      ]
    },
    {
      "cell_type": "code",
      "execution_count": 3,
      "metadata": {
        "colab": {
          "base_uri": "https://localhost:8080/"
        },
        "id": "Ygy0FmGVMlSV",
        "outputId": "61b5cc0a-df0e-4612-a8d1-824a3f8a6101"
      },
      "outputs": [
        {
          "output_type": "stream",
          "name": "stdout",
          "text": [
            "Enter number to be converted to binary: 45\n",
            "0b101101\n"
          ]
        }
      ],
      "source": [
        "#1\n",
        "number1 = int(input(\"Enter number to be converted to binary: \"))\n",
        "print(bin(number1))"
      ]
    },
    {
      "cell_type": "code",
      "source": [
        "#2\n",
        "expression = input(\"Enter the expression \")\n",
        "print(eval(expression))"
      ],
      "metadata": {
        "colab": {
          "base_uri": "https://localhost:8080/"
        },
        "id": "gkU3drIeMrKv",
        "outputId": "5e6ccb86-9d05-45d1-cc2f-d7d372467b73"
      },
      "execution_count": 5,
      "outputs": [
        {
          "output_type": "stream",
          "name": "stdout",
          "text": [
            "Enter the expression 5+66\n",
            "71\n"
          ]
        }
      ]
    },
    {
      "cell_type": "code",
      "source": [
        "2#3a\n",
        "print(\"(3+4)(5) = \",(3+4)*5)\n",
        "#3b\n",
        "n=float(input(\"give me n:\"))\n",
        "print(\"n(n-1)/2=\",n*(n-1)/2)\n",
        "#3c\n",
        "import math\n",
        "r=float(input(\"give me r:\"))\n",
        "print(\"4πr^2=\", 4*math.pi*r**2)\n",
        "#3d\n",
        "import math\n",
        "a=int(input(\"value of a:\"))\n",
        "b=int(input(\"value of b:\"))\n",
        "r=int(input(\"non negative value of r:\"))\n",
        "print(\"sqrt(r(cosa)^2 + r(sinb)^2) = \",math.sqrt((r*math.cos(a)**2) + (r*math.sin(b)**2)))\n",
        "#3e\n",
        "x1 = float(input('Enter x coordinate of first point:'))\n",
        "y1 = float(input('Enter y coordinate of first point:'))\n",
        "x2 = float(input('Enter x coordinate of second point:'))\n",
        "y2 = float(input('Enter y coordinate of second point:'))\n",
        "\n",
        "if x2 == x1:\n",
        "    print(\"not defined1\")\n",
        "else: \n",
        "    print(\"y2-y1/x2-x1 = \", (y2 - y1)/(x2 - x1))"
      ],
      "metadata": {
        "colab": {
          "base_uri": "https://localhost:8080/"
        },
        "id": "ka-IgKTnMuBj",
        "outputId": "751ac893-1f38-4067-ed01-4ccaa2b84450"
      },
      "execution_count": 6,
      "outputs": [
        {
          "output_type": "stream",
          "name": "stdout",
          "text": [
            "(3+4)(5) =  35\n",
            "give me n:34\n",
            "n(n-1)/2= 561.0\n",
            "give me r:3\n",
            "4πr^2= 113.09733552923255\n",
            "value of a:5\n",
            "value of b:4\n",
            "non negative value of r:4\n",
            "sqrt(r(cosa)^2 + r(sinb)^2) =  1.6164334225276096\n",
            "Enter x coordinate of first point:9\n",
            "Enter y coordinate of first point:1\n",
            "Enter x coordinate of second point:2\n",
            "Enter y coordinate of second point:4\n",
            "y2-y1/x2-x1 =  -0.42857142857142855\n"
          ]
        }
      ]
    },
    {
      "cell_type": "code",
      "source": [
        "#4\n",
        "print(\"range(5)\")\n",
        "for x in range(5):\n",
        "    print(x)\n",
        "\n",
        "print(\"range(3, 10)\")\n",
        "for x in range(3, 10):\n",
        "    print(x) \n",
        "\n",
        "print(\"range(4 ,13, 3)\")\n",
        "for x in range(4 ,13, 3):\n",
        "    print(x) \n",
        "\n",
        "print(\"range(15, 5, -2)\")\n",
        "for x in range(15, 5, -2):\n",
        "    print(x) \n",
        "\n",
        "print(\"range(5, 3)\")\n",
        "for x in range(5, 3):\n",
        "    print(x)"
      ],
      "metadata": {
        "colab": {
          "base_uri": "https://localhost:8080/"
        },
        "id": "YA26I8qaNKkQ",
        "outputId": "3bfbcb22-57cb-438f-88db-791e6d2e091c"
      },
      "execution_count": 7,
      "outputs": [
        {
          "output_type": "stream",
          "name": "stdout",
          "text": [
            "range(5)\n",
            "0\n",
            "1\n",
            "2\n",
            "3\n",
            "4\n",
            "range(3, 10)\n",
            "3\n",
            "4\n",
            "5\n",
            "6\n",
            "7\n",
            "8\n",
            "9\n",
            "range(4 ,13, 3)\n",
            "4\n",
            "7\n",
            "10\n",
            "range(15, 5, -2)\n",
            "15\n",
            "13\n",
            "11\n",
            "9\n",
            "7\n",
            "range(5, 3)\n"
          ]
        }
      ]
    },
    {
      "cell_type": "code",
      "source": [
        "#5\n",
        "hydrogen=int(input(\"number of hydrogen atoms:\"))\n",
        "oxygen=int(input(\"number of oxygen atoms:\"))\n",
        "carbon=int(input(\"number of carbon atoms:\"))\n",
        "print(\"molecular weight:\",hydrogen*1.00794+carbon*12.0107+oxygen*15.9994)"
      ],
      "metadata": {
        "colab": {
          "base_uri": "https://localhost:8080/"
        },
        "id": "JqAjGsXPNOid",
        "outputId": "ce83057d-796b-4ad3-df2e-d5c41534aca2"
      },
      "execution_count": 8,
      "outputs": [
        {
          "output_type": "stream",
          "name": "stdout",
          "text": [
            "number of hydrogen atoms:6\n",
            "number of oxygen atoms:5\n",
            "number of carbon atoms:2\n",
            "molecular weight: 110.06604\n"
          ]
        }
      ]
    }
  ]
}