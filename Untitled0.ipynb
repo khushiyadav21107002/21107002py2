{
  "nbformat": 4,
  "nbformat_minor": 0,
  "metadata": {
    "colab": {
      "name": "Untitled0.ipynb",
      "provenance": [],
      "authorship_tag": "ABX9TyPVI+KNgMmslZxnTXIS/1GJ",
      "include_colab_link": true
    },
    "kernelspec": {
      "name": "python3",
      "display_name": "Python 3"
    },
    "language_info": {
      "name": "python"
    }
  },
  "cells": [
    {
      "cell_type": "markdown",
      "metadata": {
        "id": "view-in-github",
        "colab_type": "text"
      },
      "source": [
        "<a href=\"https://colab.research.google.com/github/khushiyadav21107002/21107002py2/blob/main/Untitled0.ipynb\" target=\"_parent\"><img src=\"https://colab.research.google.com/assets/colab-badge.svg\" alt=\"Open In Colab\"/></a>"
      ]
    },
    {
      "cell_type": "code",
      "execution_count": 1,
      "metadata": {
        "colab": {
          "base_uri": "https://localhost:8080/"
        },
        "id": "LWkqLyPxhsmS",
        "outputId": "de960cd8-ed98-4e3f-daea-c1aa4a0d9eb8"
      },
      "outputs": [
        {
          "output_type": "stream",
          "name": "stdout",
          "text": [
            "Please enter your marks 35\n",
            "Your final grade is E\n",
            "Please enter year: 3\n",
            "The year  3  is not a leap year :(\n",
            "Question: 6 x 4 = 5\n",
            "Wrong. The answer is  24\n",
            "Question: 9 x 4 = 78\n",
            "Wrong. The answer is  36\n",
            "Question: 8 x 1 = 8\n",
            "Right!\n",
            "Question: 0 x 4 = 0\n",
            "Right!\n",
            "Question: 4 x 4 = 5\n",
            "Wrong. The answer is  16\n",
            "Question: 7 x 7 = 2\n",
            "Question: 8 x 5 = 0\n",
            "Wrong. The answer is  49\n",
            "Wrong. The answer is  40\n",
            "Question: 3 x 6 = 5\n",
            "Wrong. The answer is  18\n",
            "Question: 0 x 3 = 0\n",
            "Right!\n",
            "Question: 0 x 0 = 0\n",
            "Right!\n",
            "The number is: 177\n"
          ]
        }
      ],
      "source": [
        "#Question 1\n",
        "\n",
        "grade= float(input(\"Please enter your marks \"))\n",
        "\n",
        "if grade<25:\n",
        "    print(\"Your final grade is F\")\n",
        "elif grade>=25 and grade<45:\n",
        "    print(\"Your final grade is E\")\n",
        "elif grade>=45 and grade<50:\n",
        "    print(\"Your final grade is D\")\n",
        "elif grade>=50 and grade<60:\n",
        "    print(\"Your final grade is C\")\n",
        "elif grade>=60 and grade<80:\n",
        "    print(\"Your final grade is B\")\n",
        "elif grade>=80 and grade<=100:\n",
        "    print(\"Your final grade is A\")\n",
        "else:\n",
        "    print(\"Error: You cannot have the entered number of marks!\")\n",
        "    \n",
        "    \n",
        "#Question 2\n",
        "\n",
        "year= int(input(\"Please enter year: \"))\n",
        "\n",
        "if year % 100 == 0:\n",
        "    if year % 400 == 0:\n",
        "        print(\"The year \",year,\" is a leap year!\")\n",
        "    else:\n",
        "        print(\"The year \",year,\" is not a leap year :(\")\n",
        "elif year % 4 == 0:\n",
        "    print(\"The year \",year,\" is a leap year!\")\n",
        "else:\n",
        "    print(\"The year \",year,\" is not a leap year :(\")\n",
        "\n",
        "\n",
        "#Question 3\n",
        "\n",
        "from random import randint\n",
        "\n",
        "for loop_variable in range(10):\n",
        "    no1 = randint(0,10)\n",
        "    no2 = randint(0,10)\n",
        "    if int(input('Question: ' + str(no1) + ' x ' + str(no2) + ' = ')) == no1 * no2: print('Right!')\n",
        "    else: print('Wrong. The answer is ', no1 * no2)\n",
        "\n",
        "\n",
        "#Question 4\n",
        "\n",
        "number=1\n",
        "while number<200:\n",
        "    if number%5 == 2 and number%6 == 3 and number%7 == 2:\n",
        "        print(\"The number is: \" + str(number))\n",
        "    number = number + 1"
      ]
    }
  ]
}