{
  "nbformat": 4,
  "nbformat_minor": 0,
  "metadata": {
    "colab": {
      "provenance": [],
      "authorship_tag": "ABX9TyNRbqDH7WkpaGwCsfjDdnsO",
      "include_colab_link": true
    },
    "kernelspec": {
      "name": "python3",
      "display_name": "Python 3"
    },
    "language_info": {
      "name": "python"
    }
  },
  "cells": [
    {
      "cell_type": "markdown",
      "metadata": {
        "id": "view-in-github",
        "colab_type": "text"
      },
      "source": [
        "<a href=\"https://colab.research.google.com/github/khushiyadav21107002/21107002py2/blob/main/in_place_out_of_place.ipynb\" target=\"_parent\"><img src=\"https://colab.research.google.com/assets/colab-badge.svg\" alt=\"Open In Colab\"/></a>"
      ]
    },
    {
      "cell_type": "code",
      "source": [
        "\n",
        "#in place insertion sort\n",
        "\n",
        "import math\n",
        "\n",
        "def printVector( V):\n",
        "\n",
        "\tfor i in V:\n",
        "\t\tprint(i ,end= \" \")\n",
        "\tprint (\" \")\n",
        "\n",
        "def insertionSort( V):\n",
        "\n",
        "\tN = len(V)\n",
        "\t\n",
        " \tfor i in range(1,N):\n",
        "\tj=i\n",
        "\n",
        "\t\t# Insert V[i] into list 0..i-1\n",
        "\twhile (j > 0 and V[j] < V[j - 1]) :\n",
        "\n",
        "\t\t# Swap V[j] and V[j-1]\n",
        "\t\ttemp = V[j];\n",
        "\t\tV[j] = V[j - 1];\n",
        "\t\tV[j-1] = temp;\n",
        "\n",
        "\t\t# Decrement j\n",
        "\t\tj -= 1\n",
        "\t\n",
        "\n",
        "A = [ 9, 8, 7, 5, 2, 1, 2, 3 ]\n",
        "n = len(A)\n",
        "print(\"Array\")\n",
        "printVector(A)\n",
        "print( \"After Sorting :\")\n",
        "insertionSort(A)\n",
        "printVector(A)\n",
        "\n",
        "\n"
      ],
      "metadata": {
        "id": "Qyv64tJKe63m"
      },
      "execution_count": null,
      "outputs": []
    },
    {
      "cell_type": "code",
      "source": [
        "#out of place insertion sort\n",
        "import math\n",
        "\n",
        "def printVector( V):\n",
        "\n",
        "\tfor i in V:\n",
        "\t\tprint(i, end = \" \")\n",
        "\tprint (\" \")\n",
        "\n",
        "\n",
        "def insertionSortRecursive(V, N):\n",
        "\n",
        "\tif (N <= 1):\n",
        "\t\treturn 0\n",
        "\n",
        "\t\n",
        "\tinsertionSortRecursive(V, N - 1)\n",
        "\n",
        "\n",
        "\tj = N - 1\n",
        "\twhile (j > 0 and V[j] < V[j - 1]) :\n",
        "\n",
        "\t\t# Swap V[j] and V[j-1]\n",
        "\t\ttemp = V[j];\n",
        "\t\tV[j] = V[j - 1];\n",
        "\t\tV[j-1] = temp;\n",
        "\n",
        "\t\t# Decrement j\n",
        "\t\tj -= 1\n",
        "\t\n",
        "\n",
        "\n",
        "A = [ 9, 8, 7, 5, 2, 1, 2, 3 ]\n",
        "n=len(A)\n",
        "print(\"Array\")\n",
        "printVector(A)\n",
        "print( \"After Sorting :\")\n",
        "\n",
        "insertionSortRecursive(A,n)\n",
        "printVector(A)\n",
        "\n"
      ],
      "metadata": {
        "id": "gB26StSkgvog"
      },
      "execution_count": null,
      "outputs": []
    },
    {
      "cell_type": "markdown",
      "source": [
        "In-place algorithms:\n",
        "\n",
        "1. An in-place algorithm transforms the input without using any extra memory. As the algorithm executes, the input is usually overwritten by the output, and no additional space is needed for this operation.\n",
        "2. An in-place algorithm may require a small amount of extra memory for its operation. However, the amount of memory required must not be dependent on the input size and should be constant.\n",
        "3. Several sorting algorithms rearrange the input into sorted order in-place, such as insertion sort, selection sort, quick sort, bubble sort, heap sort, etc. All these algorithms require a constant amount of extra space for rearranging the elements in the input array.\n",
        "4. Usually, an algorithm is categorized as an in-place or an out-of-place algorithm based on the explicit storage allocated by the algorithm. However, calling a recursive algorithm as in-place is highly debatable since extra space is being used by the call stack. Although this space required by the call stack technically takes the recursive algorithms out of the in-place algorithms category, the algorithms requiring only O(log(n)) additional space is considered to be in-place.\n",
        "6. In-place algorithms are usually used in an embedded system that runs in limited memory. They reduce the space requirements to a great extent, but the algorithm time complexity increases in some cases.\n",
        "7. Examples are quick sort ,merge sort ,bubble sort etc.\n",
        "Quick sort, uses only some constant number of variables for partitioning purpose. So, is in-place algorithm.\n",
        " \n",
        "\n",
        "\n",
        "Out-of-place algorithms:\n",
        "\n",
        "1. An algorithm that is not in-place is called a not-in-place or out-of-place algorithm. Unlike an in-place algorithm, the extra space used by an out-of-place algorithm depends on the input size.\n",
        "2. The standard merge sort algorithm is an example of out-of-place algorithm as it requires O(n) extra space for merging. The merging can be done in-place, but it increases the time complexity of the sorting routine.\n",
        "3. Example- Merge sort. In merge sort, merge function requires extra linear space which is not constant. So, it is not in-place. Hence, it is called 'out of place' algorithm.\n",
        "4. Quick sort, uses only some constant number of variables for partitioning purpose. So, is in-place algorithm.\n",
        " \n"
      ],
      "metadata": {
        "id": "6G4lQzExhWxf"
      }
    }
  ]
}