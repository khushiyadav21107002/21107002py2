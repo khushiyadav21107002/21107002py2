{
  "nbformat": 4,
  "nbformat_minor": 0,
  "metadata": {
    "colab": {
      "provenance": [],
      "authorship_tag": "ABX9TyNoC7F9vTWPLixmo2g7+51m",
      "include_colab_link": true
    },
    "kernelspec": {
      "name": "python3",
      "display_name": "Python 3"
    },
    "language_info": {
      "name": "python"
    }
  },
  "cells": [
    {
      "cell_type": "markdown",
      "metadata": {
        "id": "view-in-github",
        "colab_type": "text"
      },
      "source": [
        "<a href=\"https://colab.research.google.com/github/khushiyadav21107002/21107002py2/blob/main/sizeunknown.ipynb\" target=\"_parent\"><img src=\"https://colab.research.google.com/assets/colab-badge.svg\" alt=\"Open In Colab\"/></a>"
      ]
    },
    {
      "cell_type": "code",
      "execution_count": 1,
      "metadata": {
        "colab": {
          "base_uri": "https://localhost:8080/"
        },
        "id": "8S6hBAfStFFO",
        "outputId": "a34ebb92-bd6c-46de-8f32-18e75f6e394a"
      },
      "outputs": [
        {
          "output_type": "stream",
          "name": "stdout",
          "text": [
            "[60, 40, 77, 2, 78, 1, 75, 34, 27, 93, 13, 14, 49, 67, 48, 37, 58, 87, 79, 19, 56, 5, 94, 22, 32, 25, 95, 70, 86, 45, 54, 72, 35, 66, 83, 10, 81, 15, 89, 97, 85, 71, 24, 43, 73, 31, 23, 82, 20, 38]\n",
            "87\n",
            "The index of the number in the list is 17\n"
          ]
        }
      ],
      "source": [
        "\n",
        "import random\n",
        "Question_List = random.sample(range(0,100),50)\n",
        "\n",
        "THE_NUMBER = Question_List[random.randint(0,49)]\n",
        "\n",
        "def Linear_Search(array = [], target = 0):\n",
        "    boole = False\n",
        "    i = 0\n",
        "    while boole is False:\n",
        "        i += 1\n",
        "        if array[i] == target:\n",
        "            return i\n",
        "            boole = True\n",
        "\n",
        "print(Question_List)\n",
        "print(THE_NUMBER)\n",
        "print('The index of the number in the list is ' + str(Linear_Search(Question_List,THE_NUMBER)))"
      ]
    },
    {
      "cell_type": "code",
      "source": [
        "\n",
        "import random\n",
        "Question_List = random.sample(range(0,100),10)\n",
        "Question_List.sort()\n",
        "\n",
        "THE_NUMBER = Question_List[random.randint(0,9)]\n",
        "\n",
        "def Binary_search(array = [], target = 0):\n",
        "    start = 0\n",
        "    end = len(array) - 1\n",
        "    mid = int((start + end)/2)\n",
        "    while(array[mid] != target):\n",
        "        if array[mid]>target: end = mid\n",
        "        elif array[mid]<target: start = mid + 1\n",
        "        mid = int((start + end)/2)\n",
        "\n",
        "    return mid\n",
        "\n",
        "print(Question_List)\n",
        "print(THE_NUMBER)\n",
        "print('The index of the number in the list is ' + str(Binary_search(Question_List,THE_NUMBER)))"
      ],
      "metadata": {
        "colab": {
          "base_uri": "https://localhost:8080/"
        },
        "id": "CycKA69Ytce_",
        "outputId": "7033d116-b9ab-4035-ab03-15529d34df83"
      },
      "execution_count": 2,
      "outputs": [
        {
          "output_type": "stream",
          "name": "stdout",
          "text": [
            "[24, 26, 37, 48, 54, 61, 78, 88, 92, 94]\n",
            "94\n",
            "The index of the number in the list is 9\n"
          ]
        }
      ]
    }
  ]
}